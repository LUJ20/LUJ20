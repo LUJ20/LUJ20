{
 "cells": [
  {
   "cell_type": "code",
   "execution_count": 1,
   "id": "98e0ca18-82e8-473e-b9c4-f08a4dbae1be",
   "metadata": {},
   "outputs": [],
   "source": [
    "PROJECT_ID = \"layodemo\"  # @param {type:\"string\"}"
   ]
  },
  {
   "cell_type": "code",
   "execution_count": 3,
   "id": "aa59be71-28fe-45e3-82ea-79b53176426c",
   "metadata": {},
   "outputs": [
    {
     "name": "stdout",
     "output_type": "stream",
     "text": [
      "Updated property [core/project].\n"
     ]
    }
   ],
   "source": [
    "! gcloud config set project $PROJECT_ID"
   ]
  },
  {
   "cell_type": "code",
   "execution_count": 109,
   "id": "3e9f1aa7-1e2f-448a-840c-ca631ab2c40d",
   "metadata": {},
   "outputs": [],
   "source": [
    "import os\n",
    "import numpy as np\n",
    "import pandas as pd\n",
    "from google.cloud import storage"
   ]
  },
  {
   "cell_type": "code",
   "execution_count": 110,
   "id": "b71c5321-d7ec-4b7e-b379-fd97a17a188e",
   "metadata": {},
   "outputs": [],
   "source": [
    "#Instantiates a client\n",
    "storage_client = storage.Client()"
   ]
  },
  {
   "cell_type": "code",
   "execution_count": 111,
   "id": "91fd86fb-0507-4534-85a3-af174237d6b6",
   "metadata": {},
   "outputs": [],
   "source": [
    "# Define bucket name: change this to your own\n",
    "bucket_name = 'inappropriate-vision'\n",
    "# Get GCS bucket\n",
    "bucket = storage_client.get_bucket(bucket_name)\n",
    "# Retrieve blobs in the  dataset\n",
    "blobs = bucket.list_blobs(prefix='Bad/') \n",
    "blobs1 = bucket.list_blobs(prefix='Good/') "
   ]
  },
  {
   "cell_type": "code",
   "execution_count": 112,
   "id": "c006d4c5-caa4-41a9-8606-18cb15b85e2a",
   "metadata": {},
   "outputs": [
    {
     "data": {
      "text/plain": [
       "20"
      ]
     },
     "execution_count": 112,
     "metadata": {},
     "output_type": "execute_result"
    }
   ],
   "source": [
    "# Retrieve list of blobs\n",
    "blob_list = []\n",
    "for blob in blobs:\n",
    "    blob_list.append(blob.name)\n",
    "for blob in blobs1:\n",
    "    blob_list.append(blob.name)\n",
    "len(blob_list)"
   ]
  },
  {
   "cell_type": "code",
   "execution_count": 113,
   "id": "e2cc0962-3f27-4eef-8616-a25130ed7653",
   "metadata": {},
   "outputs": [
    {
     "name": "stdout",
     "output_type": "stream",
     "text": [
      "Bad/abuse.jpeg\n",
      "Bad/abuse1.png\n"
     ]
    }
   ],
   "source": [
    "print(blob_list[0])\n",
    "print(blob_list[1])"
   ]
  },
  {
   "cell_type": "code",
   "execution_count": 114,
   "id": "8408b104-634b-4caa-bf02-f3ad2e1b3bb8",
   "metadata": {},
   "outputs": [],
   "source": [
    "# Remove .DS_Store from list created by the datasource system\n",
    "# We don't mind doing this O(n) operation because the list size is manageable.\n",
    "# For larger datasets, it may be better to simply delete this file from Google Cloud Storage.\n",
    "\n",
    "# Append the bucket_prefix to the object file path\n",
    "\n",
    "i, length = 0, len(blob_list)\n",
    "bucket_prefix = 'gs://inappropriate-vision/'\n",
    "data = []\n",
    "for blob in blob_list:\n",
    "    if '.DS_Store' not in blob:\n",
    "        entry = [''.join([bucket_prefix, blob]), blob.split('/')[0]]\n",
    "        data.append(entry)"
   ]
  },
  {
   "cell_type": "code",
   "execution_count": 115,
   "id": "13ebe393-e3a5-4a91-b005-bbb51f41dee5",
   "metadata": {},
   "outputs": [
    {
     "name": "stdout",
     "output_type": "stream",
     "text": [
      "['gs://inappropriate-vision/Bad/abuse.jpeg', 'Bad']\n",
      "['gs://inappropriate-vision/Bad/abuse1.png', 'Bad']\n"
     ]
    }
   ],
   "source": [
    "print(data[0])\n",
    "print(data[1])"
   ]
  },
  {
   "cell_type": "code",
   "execution_count": 116,
   "id": "cdbf1404-e569-4cb6-a234-d15d4b5f80d0",
   "metadata": {},
   "outputs": [],
   "source": [
    "# convert to Pandas DataFrame\n",
    "data_pd = pd.DataFrame(np.array(data))"
   ]
  },
  {
   "cell_type": "code",
   "execution_count": 117,
   "id": "3a242607-d397-4e2d-a296-c420d3e07d92",
   "metadata": {},
   "outputs": [
    {
     "name": "stdout",
     "output_type": "stream",
     "text": [
      "                                                0     1\n",
      "0        gs://inappropriate-vision/Bad/abuse.jpeg   Bad\n",
      "1        gs://inappropriate-vision/Bad/abuse1.png   Bad\n",
      "2         gs://inappropriate-vision/Bad/drug.jpeg   Bad\n",
      "3         gs://inappropriate-vision/Bad/drugs.png   Bad\n",
      "4       gs://inappropriate-vision/Bad/drugs1.jpeg   Bad\n",
      "5        gs://inappropriate-vision/Bad/skull.jpeg   Bad\n",
      "6      gs://inappropriate-vision/Bad/violence.png   Bad\n",
      "7     gs://inappropriate-vision/Bad/violence1.png   Bad\n",
      "8     gs://inappropriate-vision/Bad/violence2.png   Bad\n",
      "9    gs://inappropriate-vision/Bad/violence3.jpeg   Bad\n",
      "10         gs://inappropriate-vision/Good/dad.png  Good\n",
      "11       gs://inappropriate-vision/Good/deer.jpeg  Good\n",
      "12         gs://inappropriate-vision/Good/dog.png  Good\n",
      "13   gs://inappropriate-vision/Good/download.jpeg  Good\n",
      "14       gs://inappropriate-vision/Good/heart.png  Good\n",
      "15      gs://inappropriate-vision/Good/horse.jpeg  Good\n",
      "16         gs://inappropriate-vision/Good/mom.png  Good\n",
      "17      gs://inappropriate-vision/Good/rabbit.png  Good\n",
      "18       gs://inappropriate-vision/Good/snake.png  Good\n",
      "19  gs://inappropriate-vision/Good/snowflake.jpeg  Good\n"
     ]
    }
   ],
   "source": [
    "print(data_pd)"
   ]
  },
  {
   "cell_type": "code",
   "execution_count": 118,
   "id": "2e6b01a8-aff8-4de4-8219-d9a0ce614754",
   "metadata": {},
   "outputs": [],
   "source": [
    "data_pd.to_csv(\"gs://inappropriate-vision/data.csv\", header=None, index=None)"
   ]
  },
  {
   "cell_type": "code",
   "execution_count": null,
   "id": "2fdb78d8-50f3-4caf-9bc0-f367de222a29",
   "metadata": {},
   "outputs": [],
   "source": []
  }
 ],
 "metadata": {
  "environment": {
   "kernel": "python3",
   "name": "tf2-gpu.2-8.m103",
   "type": "gcloud",
   "uri": "gcr.io/deeplearning-platform-release/tf2-gpu.2-8:m103"
  },
  "kernelspec": {
   "display_name": "Python 3 (ipykernel)",
   "language": "python",
   "name": "python3"
  },
  "language_info": {
   "codemirror_mode": {
    "name": "ipython",
    "version": 3
   },
   "file_extension": ".py",
   "mimetype": "text/x-python",
   "name": "python",
   "nbconvert_exporter": "python",
   "pygments_lexer": "ipython3",
   "version": "3.7.12"
  }
 },
 "nbformat": 4,
 "nbformat_minor": 5
}
