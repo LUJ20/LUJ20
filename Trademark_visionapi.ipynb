{
 "cells": [
  {
   "cell_type": "code",
   "execution_count": 22,
   "id": "a7c71fbc-ac6b-4ac5-99a7-f5e38a637089",
   "metadata": {},
   "outputs": [],
   "source": [
    "import os\n",
    "\n",
    "# The Vertex AI Workbench Notebook product has specific requirements\n",
    "IS_WORKBENCH_NOTEBOOK = os.getenv(\"DL_ANACONDA_HOME\") and not os.getenv(\"VIRTUAL_ENV\")\n",
    "IS_USER_MANAGED_WORKBENCH_NOTEBOOK = os.path.exists(\n",
    "    \"/opt/deeplearning/metadata/env_version\"\n",
    ")\n",
    "\n",
    "# Vertex AI Notebook requires dependencies to be installed with '--user'\n",
    "USER_FLAG = \"\"\n",
    "if IS_WORKBENCH_NOTEBOOK:\n",
    "    USER_FLAG = \"--user\"\n",
    "\n",
    "! pip3 install --upgrade google-cloud-aiplatform google-cloud-bigquery google-cloud-vision google-cloud-storage pandas $USER_FLAG -q"
   ]
  },
  {
   "cell_type": "code",
   "execution_count": 23,
   "id": "89ed8b29-489a-4d08-add0-31604ee17f9e",
   "metadata": {},
   "outputs": [],
   "source": [
    "import os\n",
    "\n",
    "if not os.getenv(\"IS_TESTING\"):\n",
    "    # Automatically restart kernel after installs\n",
    "    import IPython\n",
    "\n",
    "    app = IPython.Application.instance()\n",
    "    app.kernel.do_shutdown(True)"
   ]
  },
  {
   "cell_type": "code",
   "execution_count": 2,
   "id": "e51a1b81-ec41-4544-8a22-ce3683094793",
   "metadata": {},
   "outputs": [],
   "source": [
    "PROJECT_ID = \"layodemo\"  # @param {type:\"string\"}"
   ]
  },
  {
   "cell_type": "code",
   "execution_count": 3,
   "id": "ea3904c2-46c3-4d1a-8750-e72e02e2b0b0",
   "metadata": {},
   "outputs": [
    {
     "name": "stdout",
     "output_type": "stream",
     "text": [
      "Updated property [core/project].\n"
     ]
    }
   ],
   "source": [
    "! gcloud config set project $PROJECT_ID"
   ]
  },
  {
   "cell_type": "code",
   "execution_count": 4,
   "id": "c3d523a1-3c1e-46e4-8c4a-bdbccb0c8cce",
   "metadata": {},
   "outputs": [],
   "source": [
    "VISION_AI_REGION = \"us-central1\"  # @param {type: \"string\"}"
   ]
  },
  {
   "cell_type": "code",
   "execution_count": 5,
   "id": "a7353126-44d6-4a81-93d9-a012b98681de",
   "metadata": {},
   "outputs": [],
   "source": [
    "BUCKET_NAME = \"trademark-vision\"  # @param {type:\"string\"}\n",
    "BUCKET_URI = f\"gs://{BUCKET_NAME}\""
   ]
  },
  {
   "cell_type": "code",
   "execution_count": 6,
   "id": "70f38945-89ef-4720-934e-3315b2bde94e",
   "metadata": {},
   "outputs": [],
   "source": [
    "if BUCKET_NAME == \"\" or BUCKET_NAME is None or BUCKET_NAME == \"[your-bucket-name]\":\n",
    "    BUCKET_NAME = PROJECT_ID + \"aip-\" + TIMESTAMP\n",
    "    BUCKET_URI = \"gs://\" + BUCKET_NAME"
   ]
  },
  {
   "cell_type": "code",
   "execution_count": null,
   "id": "e6d8cc68-bf6d-455b-bcf1-e61d292ef664",
   "metadata": {},
   "outputs": [],
   "source": [
    "! gsutil mb -l $VERTEX_AI_REGION -p $PROJECT_ID $BUCKET_URI"
   ]
  },
  {
   "cell_type": "code",
   "execution_count": 7,
   "id": "025c1a72-7483-44e9-93a6-d62560e81da3",
   "metadata": {},
   "outputs": [
    {
     "name": "stdout",
     "output_type": "stream",
     "text": [
      "      1882  2023-02-02T05:39:11Z  gs://trademark-vision/apple.png#1675316351654336  metageneration=1\n",
      "    115645  2023-02-02T05:39:11Z  gs://trademark-vision/audi.png#1675316351924414  metageneration=1\n",
      "    122392  2023-02-02T05:39:11Z  gs://trademark-vision/bronco.png#1675316351692789  metageneration=1\n",
      "      4042  2023-02-02T05:39:10Z  gs://trademark-vision/chanel.png#1675316350908201  metageneration=1\n",
      "    200315  2023-02-02T05:39:10Z  gs://trademark-vision/disney.png#1675316350913597  metageneration=1\n",
      "      2143  2023-02-02T05:39:11Z  gs://trademark-vision/facebook.png#1675316351333960  metageneration=1\n",
      "      2726  2023-02-02T05:39:11Z  gs://trademark-vision/google.png#1675316351600313  metageneration=1\n",
      "     14739  2023-02-02T05:40:59Z  gs://trademark-vision/nike.png#1675316459058750  metageneration=1\n",
      "     11441  2023-02-02T05:39:11Z  gs://trademark-vision/starbucks.png#1675316351246083  metageneration=1\n",
      "      1947  2023-02-02T05:39:11Z  gs://trademark-vision/tiktok.png#1675316351316862  metageneration=1\n",
      "TOTAL: 10 objects, 477272 bytes (466.09 KiB)\n"
     ]
    }
   ],
   "source": [
    "! gsutil ls -al $BUCKET_URI"
   ]
  },
  {
   "cell_type": "code",
   "execution_count": 8,
   "id": "19d6030c-e59e-48b9-a14d-4ed2964a5d2a",
   "metadata": {},
   "outputs": [],
   "source": [
    "data = ! gsutil ls -b gs://trademark-vision/*"
   ]
  },
  {
   "cell_type": "code",
   "execution_count": 9,
   "id": "84dc0f7c-370a-4f7f-83b2-94ca0c239511",
   "metadata": {},
   "outputs": [
    {
     "name": "stdout",
     "output_type": "stream",
     "text": [
      "['gs://trademark-vision/apple.png', 'gs://trademark-vision/audi.png', 'gs://trademark-vision/bronco.png', 'gs://trademark-vision/chanel.png', 'gs://trademark-vision/disney.png', 'gs://trademark-vision/facebook.png', 'gs://trademark-vision/google.png', 'gs://trademark-vision/nike.png', 'gs://trademark-vision/starbucks.png', 'gs://trademark-vision/tiktok.png']\n"
     ]
    }
   ],
   "source": [
    "print(data)"
   ]
  },
  {
   "cell_type": "code",
   "execution_count": 10,
   "id": "50bab21e-ba44-4814-880f-5fbedbe9c05d",
   "metadata": {},
   "outputs": [],
   "source": [
    "# convert to Pandas DataFrame\n",
    "import pandas as pd\n",
    "data_pd = pd.DataFrame(data)"
   ]
  },
  {
   "cell_type": "code",
   "execution_count": 11,
   "id": "a190cbdf-1261-4f19-b445-44a7f3085b81",
   "metadata": {},
   "outputs": [],
   "source": [
    "#data_pd.to_csv(\"gs://trademark-vision/data.csv\", header=None, index=None)"
   ]
  },
  {
   "cell_type": "code",
   "execution_count": 12,
   "id": "d2d8f829-3f69-402e-bb05-23808a544025",
   "metadata": {},
   "outputs": [],
   "source": [
    "#Detects logos in the file located in Google Cloud Storage\n",
    "\n",
    "def detect_logos_uri():\n",
    "    from google.cloud import bigquery   \n",
    "    from google.cloud import aiplatform, bigquery, storage, vision\n",
    "    from google.cloud import vision\n",
    "\n",
    "    logo_dict = []\n",
    "    \n",
    "    for uri in data:\n",
    "        #print(uri)\n",
    "        client = vision.ImageAnnotatorClient()\n",
    "        image = vision.Image()\n",
    "        image.source.image_uri = uri\n",
    "        response = client.logo_detection(image=image)\n",
    "        if response.logo_annotations:\n",
    "            logos = response.logo_annotations\n",
    "            #print(logos[0])\n",
    "            dict = {\"location\": uri, \"description\": logos[0].description, \"score\": logos[0].score}\n",
    "            logo_dict.append(dict)\n",
    "        else:\n",
    "            dict = {\"location\": uri, \"description\": \"No logo detected\", \"score\": 0}\n",
    "            logo_dict.append(dict)\n",
    "    #print(logo_dict)\n",
    "    df = pd.DataFrame(logo_dict)\n",
    "    pd.set_option('expand_frame_repr', False)\n",
    "    print(df)\n",
    "    \n",
    "    #Load the data into that dataset bq_demo using Python Client\n",
    "\n",
    "    print(\"BigQuery load started\")\n",
    "    \n",
    "    client = bigquery.Client(project=\"layodemo\")\n",
    "    dataset_id = 'vision_demo'\n",
    "    table_id = 'trademark_vision'\n",
    "    dataset_ref = client.dataset(dataset_id)\n",
    "    table_ref = dataset_ref.table(table_id)\n",
    "    job_config = bigquery.LoadJobConfig()\n",
    "    job_config.source_format = bigquery.SourceFormat.CSV\n",
    "    job_config.autodetect = True\n",
    "    dataset_ref = client.dataset(dataset_id)\n",
    "    table_ref = dataset_ref.table(table_id)\n",
    "    job = client.load_table_from_dataframe(df, table_ref, job_config=job_config)\n",
    "\n",
    "    job.result()  # Waits for table load to complete.\n",
    "\n",
    "    print(\"Load is complete\")\n"
   ]
  },
  {
   "cell_type": "code",
   "execution_count": 13,
   "id": "cf92f0f5-cc3a-4ccb-b27b-c49beafe4f49",
   "metadata": {},
   "outputs": [
    {
     "name": "stdout",
     "output_type": "stream",
     "text": [
      "                              location       description     score\n",
      "0      gs://trademark-vision/apple.png        Apple Inc.  0.987185\n",
      "1       gs://trademark-vision/audi.png              Audi  0.659119\n",
      "2     gs://trademark-vision/bronco.png    Denver Broncos  0.902557\n",
      "3     gs://trademark-vision/chanel.png            Chanel  0.997394\n",
      "4     gs://trademark-vision/disney.png  No logo detected  0.000000\n",
      "5   gs://trademark-vision/facebook.png          Facebook  0.821753\n",
      "6     gs://trademark-vision/google.png            Google  0.986012\n",
      "7       gs://trademark-vision/nike.png              Nike  0.994266\n",
      "8  gs://trademark-vision/starbucks.png         Starbucks  0.999133\n",
      "9     gs://trademark-vision/tiktok.png          Digimind  0.555075\n",
      "BigQuery load started\n",
      "Load is complete\n"
     ]
    }
   ],
   "source": [
    "detect_logos_uri()"
   ]
  },
  {
   "cell_type": "code",
   "execution_count": 14,
   "id": "89d7c608-97ef-43c1-93f5-ce78dca1b4c6",
   "metadata": {},
   "outputs": [],
   "source": [
    "data=['gs://trademark-vision/disney.png']"
   ]
  },
  {
   "cell_type": "code",
   "execution_count": 15,
   "id": "370c53c0-b986-45e6-8439-b0eb61fb203f",
   "metadata": {},
   "outputs": [],
   "source": [
    "# Detect Web entities with a local image\n",
    "\n",
    "def detect_web():\n",
    "    \"\"\"Detects web annotations given an image.\"\"\"\n",
    "    from google.cloud import vision\n",
    "    from google.cloud import aiplatform, bigquery, storage, vision\n",
    "    import pandas as pd\n",
    "    \n",
    "    logo_dict = []\n",
    "        \n",
    "    for uri in data:\n",
    "        #print(uri)\n",
    "        client = vision.ImageAnnotatorClient()\n",
    "        image = vision.Image()\n",
    "        image.source.image_uri = uri\n",
    "        response = client.web_detection(image=image)\n",
    "        annotations = response.web_detection\n",
    "\n",
    "        if annotations.best_guess_labels:\n",
    "            for label in annotations.best_guess_labels:\n",
    "                #print(uri)\n",
    "                #print('\\nBest guess label: {}'.format(label.label))\n",
    "                #dict = {\"location\": uri, \"Best guess label\": label.label}\n",
    "                #logo_dict.append(dict)\n",
    "                if annotations.web_entities:\n",
    "                    for entity in annotations.web_entities:\n",
    "                        #print('\\n\\tScore      : {}'.format(entity.score))\n",
    "                        #print(u'\\tDescription: {}'.format(entity.description))\n",
    "                        dict = {\"uri\": uri, \"best_guess_label\": label.label, \"score\": entity.score, \"description\": entity.description}\n",
    "                        logo_dict.append(dict)      \n",
    "                \n",
    "        #if annotations.web_entities:\n",
    "         #   #print('\\n{} Web entities found: '.format(len(annotations.web_entities)))\n",
    "          #  for entity in annotations.web_entities:\n",
    "           #     print('\\n\\tScore      : {}'.format(entity.score))\n",
    "            #    print(u'\\tDescription: {}'.format(entity.description))\n",
    "                \n",
    "                #print(df)\n",
    "\n",
    "    #print(logo_dict)\n",
    "    df = pd.DataFrame(logo_dict)\n",
    "    pd.set_option('expand_frame_repr', False)\n",
    "    print(df)\n",
    " #Load the data into that dataset bq_demo using Python Client\n",
    "\n",
    "    print(\"BigQuery load started\")\n",
    "    \n",
    "    client = bigquery.Client(project=\"layodemo\")\n",
    "    dataset_id = 'vision_demo'\n",
    "    table_id = 'logo_vision'\n",
    "    dataset_ref = client.dataset(dataset_id)\n",
    "    table_ref = dataset_ref.table(table_id)\n",
    "    job_config = bigquery.LoadJobConfig()\n",
    "    job_config.source_format = bigquery.SourceFormat.CSV\n",
    "    job_config.autodetect = True\n",
    "    dataset_ref = client.dataset(dataset_id)\n",
    "    table_ref = dataset_ref.table(table_id)\n",
    "    job = client.load_table_from_dataframe(df, table_ref, job_config=job_config)\n",
    "\n",
    "    job.result()  # Waits for table load to complete.\n",
    "\n",
    "    print(\"Load is complete\")\n"
   ]
  },
  {
   "cell_type": "code",
   "execution_count": 16,
   "id": "96024829-7695-4fe1-b72c-c4e03bd0018b",
   "metadata": {},
   "outputs": [
    {
     "name": "stdout",
     "output_type": "stream",
     "text": [
      "                                uri          best_guess_label     score        description\n",
      "0  gs://trademark-vision/disney.png  disney castle silhouette  0.676044     Graphic design\n",
      "1  gs://trademark-vision/disney.png  disney castle silhouette  0.549907               Logo\n",
      "2  gs://trademark-vision/disney.png  disney castle silhouette  0.462572               Font\n",
      "3  gs://trademark-vision/disney.png  disney castle silhouette  0.448600             Design\n",
      "4  gs://trademark-vision/disney.png  disney castle silhouette  0.436096              Brand\n",
      "5  gs://trademark-vision/disney.png  disney castle silhouette  0.411357               Text\n",
      "6  gs://trademark-vision/disney.png  disney castle silhouette  0.372300              White\n",
      "7  gs://trademark-vision/disney.png  disney castle silhouette  0.360800              Black\n",
      "8  gs://trademark-vision/disney.png  disney castle silhouette  0.354600  Cinderella Castle\n",
      "9  gs://trademark-vision/disney.png  disney castle silhouette  0.352800         Silhouette\n",
      "BigQuery load started\n",
      "Load is complete\n"
     ]
    }
   ],
   "source": [
    "detect_web()"
   ]
  },
  {
   "cell_type": "code",
   "execution_count": null,
   "id": "5addfc4f-3e27-43bb-91b3-420b25aea304",
   "metadata": {},
   "outputs": [],
   "source": []
  },
  {
   "cell_type": "code",
   "execution_count": null,
   "id": "df46e640-1d5a-452b-b9ce-c5b1f4d56134",
   "metadata": {},
   "outputs": [],
   "source": []
  },
  {
   "cell_type": "code",
   "execution_count": null,
   "id": "7a35963c-85e7-4ac2-a37a-b09cb9f85579",
   "metadata": {},
   "outputs": [],
   "source": []
  },
  {
   "cell_type": "code",
   "execution_count": null,
   "id": "908c0037-44d2-4bf1-980a-601d098225e5",
   "metadata": {},
   "outputs": [],
   "source": []
  },
  {
   "cell_type": "code",
   "execution_count": null,
   "id": "f2278d3e-ec80-4eb2-9596-a7a331bbe20e",
   "metadata": {},
   "outputs": [],
   "source": []
  },
  {
   "cell_type": "code",
   "execution_count": null,
   "id": "4f8bf754-e299-499a-a298-c992b58d7d9c",
   "metadata": {},
   "outputs": [],
   "source": []
  },
  {
   "cell_type": "code",
   "execution_count": null,
   "id": "cec35799-96c7-452d-804f-7c890683dccd",
   "metadata": {},
   "outputs": [],
   "source": []
  },
  {
   "cell_type": "code",
   "execution_count": null,
   "id": "b21415f8-9b46-4097-aaad-afe635f18ccb",
   "metadata": {},
   "outputs": [],
   "source": []
  },
  {
   "cell_type": "code",
   "execution_count": null,
   "id": "c1d456a9-2d5f-4ee7-b61d-30e5fd5ec4ff",
   "metadata": {},
   "outputs": [],
   "source": []
  },
  {
   "cell_type": "code",
   "execution_count": null,
   "id": "0772ada5-8870-4b61-8d95-721e139cd9b1",
   "metadata": {},
   "outputs": [],
   "source": []
  },
  {
   "cell_type": "code",
   "execution_count": null,
   "id": "7ad99bad-0c0f-416c-aaf7-6cc50def25d0",
   "metadata": {},
   "outputs": [],
   "source": []
  },
  {
   "cell_type": "code",
   "execution_count": null,
   "id": "927b974e-911f-4103-a884-edf477fb72ac",
   "metadata": {},
   "outputs": [],
   "source": []
  },
  {
   "cell_type": "code",
   "execution_count": null,
   "id": "ec97463c-4c6c-4f6f-a963-ba0cd9d82e37",
   "metadata": {},
   "outputs": [],
   "source": []
  },
  {
   "cell_type": "code",
   "execution_count": null,
   "id": "a639674d-a41f-4005-bb76-cebacdf12875",
   "metadata": {},
   "outputs": [],
   "source": []
  },
  {
   "cell_type": "code",
   "execution_count": null,
   "id": "ea57749a-80f6-45f8-bfae-5cdc65211e55",
   "metadata": {},
   "outputs": [],
   "source": []
  },
  {
   "cell_type": "code",
   "execution_count": null,
   "id": "1b2cc325-53ef-42b0-94db-7ccdf43fc5eb",
   "metadata": {},
   "outputs": [],
   "source": []
  },
  {
   "cell_type": "code",
   "execution_count": null,
   "id": "88912f64-892f-4bb8-849e-1e8c191eff20",
   "metadata": {},
   "outputs": [],
   "source": []
  },
  {
   "cell_type": "code",
   "execution_count": null,
   "id": "19cc9975-7505-47d9-953f-e67443498bee",
   "metadata": {},
   "outputs": [],
   "source": []
  }
 ],
 "metadata": {
  "environment": {
   "kernel": "python3",
   "name": "tf2-gpu.2-8.m103",
   "type": "gcloud",
   "uri": "gcr.io/deeplearning-platform-release/tf2-gpu.2-8:m103"
  },
  "kernelspec": {
   "display_name": "Python 3 (ipykernel)",
   "language": "python",
   "name": "python3"
  },
  "language_info": {
   "codemirror_mode": {
    "name": "ipython",
    "version": 3
   },
   "file_extension": ".py",
   "mimetype": "text/x-python",
   "name": "python",
   "nbconvert_exporter": "python",
   "pygments_lexer": "ipython3",
   "version": "3.7.12"
  }
 },
 "nbformat": 4,
 "nbformat_minor": 5
}
