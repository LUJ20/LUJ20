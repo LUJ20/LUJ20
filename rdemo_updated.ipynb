{
 "cells": [
  {
   "cell_type": "code",
   "execution_count": 80,
   "id": "f0d0cff9-8899-40dd-abb8-1f56f8867915",
   "metadata": {},
   "outputs": [],
   "source": [
    "#Install the latest version of Vertex SDK for Python.\n",
    "import os\n",
    "\n",
    "# Google Cloud Notebook\n",
    "if os.path.exists(\"/opt/deeplearning/metadata/env_version\"):\n",
    "    USER_FLAG = \"--user\"\n",
    "else:\n",
    "    USER_FLAG = \"\"\n",
    "\n",
    "!pip3 install --quiet --upgrade google-cloud-aiplatform $USER_FLAG"
   ]
  },
  {
   "cell_type": "code",
   "execution_count": 81,
   "id": "890adc08-b5ef-40cb-b275-4354557fe2ad",
   "metadata": {},
   "outputs": [],
   "source": [
    "#Install the latest GA version of google-cloud-storage library as well.\n",
    "!pip3 install --quiet -U google-cloud-storage $USER_FLAG"
   ]
  },
  {
   "cell_type": "code",
   "execution_count": 51,
   "id": "37fcf9f7-5fce-4c67-8fde-93b0e52448fd",
   "metadata": {},
   "outputs": [],
   "source": [
    "#Restart the kernel\n",
    "#Once you've installed the additional packages, you need to restart the notebook kernel so it can find the packages.\n",
    "import os\n",
    "\n",
    "if not os.getenv(\"IS_TESTING\"):\n",
    "    # Automatically restart kernel after installs\n",
    "    import IPython\n",
    "\n",
    "    app = IPython.Application.instance()\n",
    "    app.kernel.do_shutdown(True)"
   ]
  },
  {
   "cell_type": "code",
   "execution_count": 82,
   "id": "8666256e-e0a5-475d-a6c5-11f415b9e246",
   "metadata": {},
   "outputs": [
    {
     "data": {
      "text/plain": [
       "'layodemo'"
      ]
     },
     "execution_count": 82,
     "metadata": {},
     "output_type": "execute_result"
    }
   ],
   "source": [
    "#Set ProjectID\n",
    "PROJECT_ID = \"layodemo\" \n",
    "PROJECT_ID"
   ]
  },
  {
   "cell_type": "code",
   "execution_count": 83,
   "id": "c510ddd0-b7fd-4d80-a48c-2f811ce6f4cd",
   "metadata": {},
   "outputs": [
    {
     "name": "stdout",
     "output_type": "stream",
     "text": [
      "Updated property [core/project].\n"
     ]
    }
   ],
   "source": [
    "! gcloud config set project $PROJECT_ID"
   ]
  },
  {
   "cell_type": "code",
   "execution_count": 84,
   "id": "ca397073-c8db-45d8-9b9d-532598fce79d",
   "metadata": {},
   "outputs": [],
   "source": [
    "REGION = \"us-central1\""
   ]
  },
  {
   "cell_type": "code",
   "execution_count": 85,
   "id": "af044bfc-a430-4b2e-8278-bd0dec8ae121",
   "metadata": {},
   "outputs": [],
   "source": [
    "BUCKET_NAME=\"gs://rdemo/\""
   ]
  },
  {
   "cell_type": "code",
   "execution_count": 86,
   "id": "affe0fc1-3ed2-41b6-8011-a5776663ec6c",
   "metadata": {},
   "outputs": [
    {
     "name": "stdout",
     "output_type": "stream",
     "text": [
      "  30479574  2021-11-30T02:15:54Z  gs://rdemo/external_ready_visible MCH.csv#1638238554173951  metageneration=1\n",
      "TOTAL: 1 objects, 30479574 bytes (29.07 MiB)\n"
     ]
    }
   ],
   "source": [
    "#Finally, validate access to your Cloud Storage bucket by examining its contents\n",
    "! gsutil ls -al $BUCKET_NAME"
   ]
  },
  {
   "cell_type": "code",
   "execution_count": 87,
   "id": "da7f9f02-f6ce-47ef-b6e9-f923b73eca84",
   "metadata": {},
   "outputs": [],
   "source": [
    "import google.cloud.aiplatform as aip"
   ]
  },
  {
   "cell_type": "code",
   "execution_count": 88,
   "id": "acd5f895-1cd0-4bd1-aee0-753b59f7f4f3",
   "metadata": {},
   "outputs": [],
   "source": [
    "#Initialize the Vertex SDK for Python for your project and corresponding bucket\n",
    "aip.init(project=PROJECT_ID, staging_bucket=BUCKET_NAME)"
   ]
  },
  {
   "cell_type": "code",
   "execution_count": 97,
   "id": "c84b01be-6620-4f9d-b433-fed71ac8afc5",
   "metadata": {},
   "outputs": [],
   "source": [
    "#Now set the variable IMPORT_FILE to the location of the CSV index file in Cloud Storage\n",
    "IMPORT_FILE = \"gs://rdemo/sample_file.csv\""
   ]
  },
  {
   "cell_type": "code",
   "execution_count": 98,
   "id": "2dd944c3-12ee-4b43-aa4a-03d8814790d3",
   "metadata": {},
   "outputs": [
    {
     "data": {
      "text/html": [
       "<div>\n",
       "<style scoped>\n",
       "    .dataframe tbody tr th:only-of-type {\n",
       "        vertical-align: middle;\n",
       "    }\n",
       "\n",
       "    .dataframe tbody tr th {\n",
       "        vertical-align: top;\n",
       "    }\n",
       "\n",
       "    .dataframe thead th {\n",
       "        text-align: right;\n",
       "    }\n",
       "</style>\n",
       "<table border=\"1\" class=\"dataframe\">\n",
       "  <thead>\n",
       "    <tr style=\"text-align: right;\">\n",
       "      <th></th>\n",
       "      <th>var1</th>\n",
       "      <th>var2</th>\n",
       "      <th>var3</th>\n",
       "      <th>var4</th>\n",
       "      <th>var5</th>\n",
       "      <th>var6</th>\n",
       "      <th>var7</th>\n",
       "      <th>var8</th>\n",
       "      <th>var9</th>\n",
       "      <th>var10</th>\n",
       "      <th>...</th>\n",
       "      <th>Var27</th>\n",
       "      <th>Var28</th>\n",
       "      <th>Var29</th>\n",
       "      <th>Var30</th>\n",
       "      <th>Var31</th>\n",
       "      <th>Var32</th>\n",
       "      <th>Protected_class</th>\n",
       "      <th>Var33</th>\n",
       "      <th>Var34</th>\n",
       "      <th>Var35</th>\n",
       "    </tr>\n",
       "  </thead>\n",
       "  <tbody>\n",
       "    <tr>\n",
       "      <th>0</th>\n",
       "      <td>YES</td>\n",
       "      <td>N</td>\n",
       "      <td>N</td>\n",
       "      <td>0</td>\n",
       "      <td>0</td>\n",
       "      <td>0</td>\n",
       "      <td>1</td>\n",
       "      <td>0</td>\n",
       "      <td>0.0</td>\n",
       "      <td>0.0</td>\n",
       "      <td>...</td>\n",
       "      <td>1</td>\n",
       "      <td>0</td>\n",
       "      <td>0.0</td>\n",
       "      <td>0.0</td>\n",
       "      <td>0.685217</td>\n",
       "      <td>N</td>\n",
       "      <td>Level5</td>\n",
       "      <td>Level4</td>\n",
       "      <td>Level1</td>\n",
       "      <td>Level3</td>\n",
       "    </tr>\n",
       "    <tr>\n",
       "      <th>2</th>\n",
       "      <td>YES</td>\n",
       "      <td>N</td>\n",
       "      <td>N</td>\n",
       "      <td>0</td>\n",
       "      <td>1</td>\n",
       "      <td>0</td>\n",
       "      <td>0</td>\n",
       "      <td>0</td>\n",
       "      <td>0.0</td>\n",
       "      <td>0.0</td>\n",
       "      <td>...</td>\n",
       "      <td>2</td>\n",
       "      <td>0</td>\n",
       "      <td>0.0</td>\n",
       "      <td>0.0</td>\n",
       "      <td>0.255147</td>\n",
       "      <td>N</td>\n",
       "      <td>Level7</td>\n",
       "      <td>Level2</td>\n",
       "      <td>Level1</td>\n",
       "      <td>Level3</td>\n",
       "    </tr>\n",
       "    <tr>\n",
       "      <th>3</th>\n",
       "      <td>YES</td>\n",
       "      <td>N</td>\n",
       "      <td>N</td>\n",
       "      <td>1</td>\n",
       "      <td>0</td>\n",
       "      <td>0</td>\n",
       "      <td>0</td>\n",
       "      <td>2</td>\n",
       "      <td>0.0</td>\n",
       "      <td>50.0</td>\n",
       "      <td>...</td>\n",
       "      <td>1</td>\n",
       "      <td>0</td>\n",
       "      <td>0.0</td>\n",
       "      <td>0.0</td>\n",
       "      <td>0.366125</td>\n",
       "      <td>N</td>\n",
       "      <td>Level5</td>\n",
       "      <td>Level1</td>\n",
       "      <td>Level3</td>\n",
       "      <td>Level2</td>\n",
       "    </tr>\n",
       "    <tr>\n",
       "      <th>4</th>\n",
       "      <td>YES</td>\n",
       "      <td>N</td>\n",
       "      <td>N</td>\n",
       "      <td>0</td>\n",
       "      <td>1</td>\n",
       "      <td>0</td>\n",
       "      <td>0</td>\n",
       "      <td>1</td>\n",
       "      <td>0.0</td>\n",
       "      <td>90000.0</td>\n",
       "      <td>...</td>\n",
       "      <td>5</td>\n",
       "      <td>0</td>\n",
       "      <td>0.0</td>\n",
       "      <td>0.0</td>\n",
       "      <td>0.793722</td>\n",
       "      <td>N</td>\n",
       "      <td>Level6</td>\n",
       "      <td>Level2</td>\n",
       "      <td>Level2</td>\n",
       "      <td>Level2</td>\n",
       "    </tr>\n",
       "    <tr>\n",
       "      <th>5</th>\n",
       "      <td>YES</td>\n",
       "      <td>N</td>\n",
       "      <td>N</td>\n",
       "      <td>0</td>\n",
       "      <td>1</td>\n",
       "      <td>0</td>\n",
       "      <td>0</td>\n",
       "      <td>0</td>\n",
       "      <td>0.0</td>\n",
       "      <td>0.0</td>\n",
       "      <td>...</td>\n",
       "      <td>11</td>\n",
       "      <td>10</td>\n",
       "      <td>0.0</td>\n",
       "      <td>500.0</td>\n",
       "      <td>0.713145</td>\n",
       "      <td>N</td>\n",
       "      <td>Level9</td>\n",
       "      <td>Level2</td>\n",
       "      <td>Level1</td>\n",
       "      <td>Level3</td>\n",
       "    </tr>\n",
       "  </tbody>\n",
       "</table>\n",
       "<p>5 rows × 37 columns</p>\n",
       "</div>"
      ],
      "text/plain": [
       "  var1 var2 var3  var4  var5  var6  var7  var8  var9    var10  ...  Var27  \\\n",
       "0  YES    N    N     0     0     0     1     0   0.0      0.0  ...      1   \n",
       "2  YES    N    N     0     1     0     0     0   0.0      0.0  ...      2   \n",
       "3  YES    N    N     1     0     0     0     2   0.0     50.0  ...      1   \n",
       "4  YES    N    N     0     1     0     0     1   0.0  90000.0  ...      5   \n",
       "5  YES    N    N     0     1     0     0     0   0.0      0.0  ...     11   \n",
       "\n",
       "   Var28  Var29  Var30     Var31  Var32  Protected_class   Var33   Var34  \\\n",
       "0      0    0.0    0.0  0.685217      N           Level5  Level4  Level1   \n",
       "2      0    0.0    0.0  0.255147      N           Level7  Level2  Level1   \n",
       "3      0    0.0    0.0  0.366125      N           Level5  Level1  Level3   \n",
       "4      0    0.0    0.0  0.793722      N           Level6  Level2  Level2   \n",
       "5     10    0.0  500.0  0.713145      N           Level9  Level2  Level1   \n",
       "\n",
       "    Var35  \n",
       "0  Level3  \n",
       "2  Level3  \n",
       "3  Level2  \n",
       "4  Level2  \n",
       "5  Level3  \n",
       "\n",
       "[5 rows x 37 columns]"
      ]
     },
     "execution_count": 98,
     "metadata": {},
     "output_type": "execute_result"
    }
   ],
   "source": [
    "import pandas as pd\n",
    "df=pd.read_csv(\"gs://rdemo/external_ready_visible MCH.csv\")\n",
    "# drop function which is used in removing or deleting rows or columns from the CSV files\n",
    "#df.drop('Protected_class', inplace=True, axis=1)\n",
    "df = df.dropna()\n",
    "df.head(5)"
   ]
  },
  {
   "cell_type": "code",
   "execution_count": 99,
   "id": "5c21f38d-50ba-4877-b223-0ef425fcf6fe",
   "metadata": {},
   "outputs": [
    {
     "data": {
      "text/html": [
       "<div>\n",
       "<style scoped>\n",
       "    .dataframe tbody tr th:only-of-type {\n",
       "        vertical-align: middle;\n",
       "    }\n",
       "\n",
       "    .dataframe tbody tr th {\n",
       "        vertical-align: top;\n",
       "    }\n",
       "\n",
       "    .dataframe thead th {\n",
       "        text-align: right;\n",
       "    }\n",
       "</style>\n",
       "<table border=\"1\" class=\"dataframe\">\n",
       "  <thead>\n",
       "    <tr style=\"text-align: right;\">\n",
       "      <th></th>\n",
       "      <th>var1</th>\n",
       "      <th>var2</th>\n",
       "      <th>var3</th>\n",
       "      <th>var4</th>\n",
       "      <th>var5</th>\n",
       "      <th>var6</th>\n",
       "      <th>var7</th>\n",
       "      <th>var8</th>\n",
       "      <th>var9</th>\n",
       "      <th>var10</th>\n",
       "      <th>...</th>\n",
       "      <th>Var27</th>\n",
       "      <th>Var28</th>\n",
       "      <th>Var29</th>\n",
       "      <th>Var30</th>\n",
       "      <th>Var31</th>\n",
       "      <th>Var32</th>\n",
       "      <th>Protected_class</th>\n",
       "      <th>Var33</th>\n",
       "      <th>Var34</th>\n",
       "      <th>Var35</th>\n",
       "    </tr>\n",
       "  </thead>\n",
       "  <tbody>\n",
       "    <tr>\n",
       "      <th>0</th>\n",
       "      <td>1</td>\n",
       "      <td>0</td>\n",
       "      <td>0</td>\n",
       "      <td>0</td>\n",
       "      <td>0</td>\n",
       "      <td>0</td>\n",
       "      <td>1</td>\n",
       "      <td>0</td>\n",
       "      <td>0.0</td>\n",
       "      <td>0.0</td>\n",
       "      <td>...</td>\n",
       "      <td>1</td>\n",
       "      <td>0</td>\n",
       "      <td>0.0</td>\n",
       "      <td>0.0</td>\n",
       "      <td>0.685217</td>\n",
       "      <td>0</td>\n",
       "      <td>5</td>\n",
       "      <td>4</td>\n",
       "      <td>1</td>\n",
       "      <td>3</td>\n",
       "    </tr>\n",
       "    <tr>\n",
       "      <th>2</th>\n",
       "      <td>1</td>\n",
       "      <td>0</td>\n",
       "      <td>0</td>\n",
       "      <td>0</td>\n",
       "      <td>1</td>\n",
       "      <td>0</td>\n",
       "      <td>0</td>\n",
       "      <td>0</td>\n",
       "      <td>0.0</td>\n",
       "      <td>0.0</td>\n",
       "      <td>...</td>\n",
       "      <td>2</td>\n",
       "      <td>0</td>\n",
       "      <td>0.0</td>\n",
       "      <td>0.0</td>\n",
       "      <td>0.255147</td>\n",
       "      <td>0</td>\n",
       "      <td>7</td>\n",
       "      <td>2</td>\n",
       "      <td>1</td>\n",
       "      <td>3</td>\n",
       "    </tr>\n",
       "    <tr>\n",
       "      <th>3</th>\n",
       "      <td>1</td>\n",
       "      <td>0</td>\n",
       "      <td>0</td>\n",
       "      <td>1</td>\n",
       "      <td>0</td>\n",
       "      <td>0</td>\n",
       "      <td>0</td>\n",
       "      <td>2</td>\n",
       "      <td>0.0</td>\n",
       "      <td>50.0</td>\n",
       "      <td>...</td>\n",
       "      <td>1</td>\n",
       "      <td>0</td>\n",
       "      <td>0.0</td>\n",
       "      <td>0.0</td>\n",
       "      <td>0.366125</td>\n",
       "      <td>0</td>\n",
       "      <td>5</td>\n",
       "      <td>1</td>\n",
       "      <td>3</td>\n",
       "      <td>2</td>\n",
       "    </tr>\n",
       "    <tr>\n",
       "      <th>4</th>\n",
       "      <td>1</td>\n",
       "      <td>0</td>\n",
       "      <td>0</td>\n",
       "      <td>0</td>\n",
       "      <td>1</td>\n",
       "      <td>0</td>\n",
       "      <td>0</td>\n",
       "      <td>1</td>\n",
       "      <td>0.0</td>\n",
       "      <td>90000.0</td>\n",
       "      <td>...</td>\n",
       "      <td>5</td>\n",
       "      <td>0</td>\n",
       "      <td>0.0</td>\n",
       "      <td>0.0</td>\n",
       "      <td>0.793722</td>\n",
       "      <td>0</td>\n",
       "      <td>6</td>\n",
       "      <td>2</td>\n",
       "      <td>2</td>\n",
       "      <td>2</td>\n",
       "    </tr>\n",
       "    <tr>\n",
       "      <th>5</th>\n",
       "      <td>1</td>\n",
       "      <td>0</td>\n",
       "      <td>0</td>\n",
       "      <td>0</td>\n",
       "      <td>1</td>\n",
       "      <td>0</td>\n",
       "      <td>0</td>\n",
       "      <td>0</td>\n",
       "      <td>0.0</td>\n",
       "      <td>0.0</td>\n",
       "      <td>...</td>\n",
       "      <td>11</td>\n",
       "      <td>10</td>\n",
       "      <td>0.0</td>\n",
       "      <td>500.0</td>\n",
       "      <td>0.713145</td>\n",
       "      <td>0</td>\n",
       "      <td>9</td>\n",
       "      <td>2</td>\n",
       "      <td>1</td>\n",
       "      <td>3</td>\n",
       "    </tr>\n",
       "  </tbody>\n",
       "</table>\n",
       "<p>5 rows × 37 columns</p>\n",
       "</div>"
      ],
      "text/plain": [
       "   var1  var2  var3  var4  var5  var6  var7  var8  var9    var10  ...  Var27  \\\n",
       "0     1     0     0     0     0     0     1     0   0.0      0.0  ...      1   \n",
       "2     1     0     0     0     1     0     0     0   0.0      0.0  ...      2   \n",
       "3     1     0     0     1     0     0     0     2   0.0     50.0  ...      1   \n",
       "4     1     0     0     0     1     0     0     1   0.0  90000.0  ...      5   \n",
       "5     1     0     0     0     1     0     0     0   0.0      0.0  ...     11   \n",
       "\n",
       "   Var28  Var29  Var30     Var31  Var32  Protected_class  Var33  Var34  Var35  \n",
       "0      0    0.0    0.0  0.685217      0                5      4      1      3  \n",
       "2      0    0.0    0.0  0.255147      0                7      2      1      3  \n",
       "3      0    0.0    0.0  0.366125      0                5      1      3      2  \n",
       "4      0    0.0    0.0  0.793722      0                6      2      2      2  \n",
       "5     10    0.0  500.0  0.713145      0                9      2      1      3  \n",
       "\n",
       "[5 rows x 37 columns]"
      ]
     },
     "execution_count": 99,
     "metadata": {},
     "output_type": "execute_result"
    }
   ],
   "source": [
    "df['Var33'] = df['Var33'].map(lambda x: x.lstrip('Level'))\n",
    "df['Var34'] = df['Var34'].map(lambda x: x.lstrip('Level'))\n",
    "df['Var35'] = df['Var35'].map(lambda x: x.lstrip('Level'))\n",
    "df['Protected_class'] = df['Protected_class'].map(lambda x: x.lstrip('Level'))\n",
    "df['var1'] = df['var1'].replace('YES', 1)\n",
    "df['var1'] = df['var1'].replace('NO', 0)\n",
    "df['var2'] = df['var2'].replace('Y', 1)\n",
    "df['var2'] = df['var2'].replace('N', 0)\n",
    "df['var3'] = df['var3'].replace('Y', 1)\n",
    "df['var3'] = df['var3'].replace('N', 0)\n",
    "df['Var32'] = df['Var32'].replace('Y', 1)\n",
    "df['Var32'] = df['Var32'].replace('N', 0)\n",
    "df.head(5)"
   ]
  },
  {
   "cell_type": "code",
   "execution_count": 100,
   "id": "d6b29bd5-9cef-4b0c-915a-5dc0a519b6e4",
   "metadata": {},
   "outputs": [],
   "source": [
    "df[\"Protected_class\"] = df[\"Protected_class\"].astype(str).astype(int)\n",
    "df[\"Var33\"] = df[\"Var33\"].astype(str).astype(int)\n",
    "df[\"Var34\"] = df[\"Var34\"].astype(str).astype(int)\n",
    "df[\"Var35\"] = df[\"Var35\"].astype(str).astype(int)\n",
    "df.to_csv('gs://rdemo/sample_file.csv', index=False)"
   ]
  },
  {
   "cell_type": "code",
   "execution_count": 101,
   "id": "3fe962db-0fb5-4ae4-816b-c064c52b6eb1",
   "metadata": {},
   "outputs": [],
   "source": [
    "df1 = df[['Var29', 'var11','var12','var13','Var28','var9','Protected_class','Response']]\n"
   ]
  },
  {
   "cell_type": "code",
   "execution_count": 102,
   "id": "d99af886-2522-4a8a-ad5a-a2b4ea539d5f",
   "metadata": {},
   "outputs": [
    {
     "data": {
      "image/png": "[encoded data removed]",
      "text/plain": [
       "<Figure size 432x288 with 2 Axes>"
      ]
     },
     "metadata": {
      "needs_background": "light"
     },
     "output_type": "display_data"
    }
   ],
   "source": [
    "import pandas as pd\n",
    "import seaborn as sn\n",
    "import matplotlib.pyplot as plt\n",
    "corrMatrix = df1.corr()\n",
    "sn.heatmap(corrMatrix, annot=True)\n",
    "plt.show()\n"
   ]
  },
  {
   "cell_type": "code",
   "execution_count": 103,
   "id": "8cf61a3b-5863-4c4c-b672-315a7a80fd6d",
   "metadata": {},
   "outputs": [
    {
     "data": {
      "text/plain": [
       "['var1,var2,var3,var4,var5,var6,var7,var8,var9,var10,var11,var12,var13,Response,Var14,var15,Var16,Var17,Var18,Var19,Var20,Var21,Var22,Var23,Var24,Var25,Var26,Var27,Var28,Var29,Var30,Var31,Var32,Protected_class,Var33,Var34,Var35']"
      ]
     },
     "execution_count": 103,
     "metadata": {},
     "output_type": "execute_result"
    }
   ],
   "source": [
    "heading = ! gsutil cat \"gs://rdemo/external_ready_visible MCH.csv\"| head -n1\n",
    "heading"
   ]
  },
  {
   "cell_type": "code",
   "execution_count": 104,
   "id": "70f0f9ac-52e8-4134-95a4-6dba45eb11fb",
   "metadata": {},
   "outputs": [
    {
     "data": {
      "text/plain": [
       "'Response'"
      ]
     },
     "execution_count": 104,
     "metadata": {},
     "output_type": "execute_result"
    }
   ],
   "source": [
    "label_column = str(heading).split(\",\")[13].split(\"'\")[0]\n",
    "label_column"
   ]
  },
  {
   "cell_type": "code",
   "execution_count": 106,
   "id": "670b4dee-54ed-46d7-a5fd-42eed8594427",
   "metadata": {},
   "outputs": [
    {
     "name": "stdout",
     "output_type": "stream",
     "text": [
      "INFO:google.cloud.aiplatform.datasets.dataset:Creating TabularDataset\n",
      "INFO:google.cloud.aiplatform.datasets.dataset:Create TabularDataset backing LRO: projects/320177532135/locations/us-central1/datasets/315102440334557184/operations/1301455698634211328\n",
      "INFO:google.cloud.aiplatform.datasets.dataset:TabularDataset created. Resource name: projects/320177532135/locations/us-central1/datasets/315102440334557184\n",
      "INFO:google.cloud.aiplatform.datasets.dataset:To use this TabularDataset in another session:\n",
      "INFO:google.cloud.aiplatform.datasets.dataset:ds = aiplatform.TabularDataset('projects/320177532135/locations/us-central1/datasets/315102440334557184')\n",
      "projects/320177532135/locations/us-central1/datasets/315102440334557184\n"
     ]
    }
   ],
   "source": [
    "dataset = aip.TabularDataset.create(\n",
    "    display_name=\"Sample_Dataset\", gcs_source=[IMPORT_FILE]\n",
    ")\n",
    "\n",
    "print(dataset.resource_name)"
   ]
  },
  {
   "cell_type": "code",
   "execution_count": 108,
   "id": "276dc357-5e7f-4bcf-8faf-11b839f57c97",
   "metadata": {},
   "outputs": [
    {
     "name": "stdout",
     "output_type": "stream",
     "text": [
      "<google.cloud.aiplatform.training_jobs.AutoMLTabularTrainingJob object at 0x7f8353e8eb50>\n"
     ]
    }
   ],
   "source": [
    "#The instantiated object is the DAG (directed acyclic graph) for the training pipeline.\n",
    "dag = aip.AutoMLTabularTrainingJob(\n",
    "    display_name=\"sample_data\",\n",
    "    optimization_prediction_type=\"classification\",\n",
    "    optimization_objective=\"minimize-log-loss\",\n",
    ")\n",
    "\n",
    "print(dag)"
   ]
  },
  {
   "cell_type": "code",
   "execution_count": null,
   "id": "0793bfc9-b7ee-4249-beff-076050d2cb71",
   "metadata": {},
   "outputs": [
    {
     "name": "stdout",
     "output_type": "stream",
     "text": [
      "INFO:google.cloud.aiplatform.training_jobs:No column transformations provided, so now retrieving columns from dataset in order to set default column transformations.\n",
      "INFO:google.cloud.aiplatform.training_jobs:The column transformation of type 'auto' was set for the following columns: ['var6', 'Var35', 'var15', 'Var27', 'Var22', 'var10', 'Var26', 'Var29', 'var12', 'Var34', 'Var19', 'var7', 'var11', 'var4', 'Var28', 'var9', 'Var33', 'Var24', 'Var30', 'var3', 'var1', 'Var14', 'Var18', 'Var25', 'Var21', 'Var23', 'var13', 'Var31', 'Var32', 'Protected_class', 'Var17', 'var5', 'Var20', 'var8', 'Var16', 'var2'].\n",
      "INFO:google.cloud.aiplatform.training_jobs:View Training:\n",
      "https://console.cloud.google.com/ai/platform/locations/us-central1/training/1800191905250672640?project=320177532135\n",
      "INFO:google.cloud.aiplatform.training_jobs:AutoMLTabularTrainingJob projects/320177532135/locations/us-central1/trainingPipelines/1800191905250672640 current state:\n",
      "PipelineState.PIPELINE_STATE_RUNNING\n",
      "INFO:google.cloud.aiplatform.training_jobs:AutoMLTabularTrainingJob projects/320177532135/locations/us-central1/trainingPipelines/1800191905250672640 current state:\n",
      "PipelineState.PIPELINE_STATE_RUNNING\n",
      "INFO:google.cloud.aiplatform.training_jobs:AutoMLTabularTrainingJob projects/320177532135/locations/us-central1/trainingPipelines/1800191905250672640 current state:\n",
      "PipelineState.PIPELINE_STATE_RUNNING\n",
      "INFO:google.cloud.aiplatform.training_jobs:AutoMLTabularTrainingJob projects/320177532135/locations/us-central1/trainingPipelines/1800191905250672640 current state:\n",
      "PipelineState.PIPELINE_STATE_RUNNING\n",
      "INFO:google.cloud.aiplatform.training_jobs:AutoMLTabularTrainingJob projects/320177532135/locations/us-central1/trainingPipelines/1800191905250672640 current state:\n",
      "PipelineState.PIPELINE_STATE_RUNNING\n",
      "INFO:google.cloud.aiplatform.training_jobs:AutoMLTabularTrainingJob projects/320177532135/locations/us-central1/trainingPipelines/1800191905250672640 current state:\n",
      "PipelineState.PIPELINE_STATE_RUNNING\n",
      "INFO:google.cloud.aiplatform.training_jobs:AutoMLTabularTrainingJob projects/320177532135/locations/us-central1/trainingPipelines/1800191905250672640 current state:\n",
      "PipelineState.PIPELINE_STATE_RUNNING\n",
      "INFO:google.cloud.aiplatform.training_jobs:AutoMLTabularTrainingJob projects/320177532135/locations/us-central1/trainingPipelines/1800191905250672640 current state:\n",
      "PipelineState.PIPELINE_STATE_RUNNING\n",
      "INFO:google.cloud.aiplatform.training_jobs:AutoMLTabularTrainingJob projects/320177532135/locations/us-central1/trainingPipelines/1800191905250672640 current state:\n",
      "PipelineState.PIPELINE_STATE_RUNNING\n",
      "INFO:google.cloud.aiplatform.training_jobs:AutoMLTabularTrainingJob projects/320177532135/locations/us-central1/trainingPipelines/1800191905250672640 current state:\n",
      "PipelineState.PIPELINE_STATE_RUNNING\n",
      "INFO:google.cloud.aiplatform.training_jobs:AutoMLTabularTrainingJob projects/320177532135/locations/us-central1/trainingPipelines/1800191905250672640 current state:\n",
      "PipelineState.PIPELINE_STATE_RUNNING\n",
      "INFO:google.cloud.aiplatform.training_jobs:AutoMLTabularTrainingJob projects/320177532135/locations/us-central1/trainingPipelines/1800191905250672640 current state:\n",
      "PipelineState.PIPELINE_STATE_RUNNING\n"
     ]
    }
   ],
   "source": [
    "#Next, you run the DAG to start the training job by invoking the method run\n",
    "model = dag.run(\n",
    "    dataset=dataset,\n",
    "    model_display_name=\"sample_data\",\n",
    "    training_fraction_split=0.6,\n",
    "    validation_fraction_split=0.2,\n",
    "    test_fraction_split=0.2,\n",
    "    budget_milli_node_hours=1000,\n",
    "    disable_early_stopping=False,\n",
    "    target_column=label_column,\n",
    ")"
   ]
  },
  {
   "cell_type": "code",
   "execution_count": null,
   "id": "608102d7-bd51-4af8-abdf-1a5c48eda933",
   "metadata": {},
   "outputs": [],
   "source": [
    "endpoint = model.deploy(machine_type=\"n1-standard-4\")"
   ]
  },
  {
   "cell_type": "code",
   "execution_count": null,
   "id": "4c1e1c59-beb5-4372-8eaa-61ecb1d4d339",
   "metadata": {},
   "outputs": [],
   "source": [
    "INSTANCE = {\n",
    "    \"var1\" : \"1\",\n",
    "    \"var2\" : \"0\",\n",
    "    \"var3\" : \"0\",\n",
    "    \"var4\" : \"1\",\n",
    "    \"var5\" : \"0\",\n",
    "    \"var6\" : \"0\",\n",
    "    \"var7\" : \"0\",\n",
    "    \"var8\" : \"0\",\n",
    "    \"var9\" : \"0\",\n",
    "    \"var10\" : \"0\",\n",
    "    \"var11\" : \"0\",\n",
    "    \"var12\" : \"0\",\n",
    "    \"var13\" : \"0\",\n",
    "    \"var14\" : \"\",\n",
    "    \"var15\" : \"0\",\n",
    "    \"var16\" : \"0\",\n",
    "    \"var17\" : \"0\",\n",
    "    \"var18\" : \"0\",\n",
    "    \"var19\" : \"0\",\n",
    "    \"var20\" : \"0\",\n",
    "    \"var21\" : \"0\",\n",
    "    \"var22\" : \"0\",\n",
    "    \"var23\" : \"0\",\n",
    "    \"var24\" : \"0\",\n",
    "    \"var25\" : \"0\",\n",
    "    \"var26\" : \"1700\",\n",
    "    \"var27\" : \"3\",\n",
    "    \"var28\" : \"0\",\n",
    "    \"var29\" : \"0\",\n",
    "    \"var30\" : \"0\",\n",
    "    \"var31\" : \"0.864593505\",\n",
    "    \"var32\" : \"0\",\n",
    "    \"Protected_class” : \"3\",\n",
    "    \"var33\" : \"1\",\n",
    "    \"var34\" : \"1\",\n",
    "    \"var35\" : \"3\",}"
   ]
  },
  {
   "cell_type": "code",
   "execution_count": null,
   "id": "3ebbffe0-f0ac-4cff-bcb3-da4214eadb84",
   "metadata": {},
   "outputs": [],
   "source": [
    "instances_list = [INSTANCE]\n",
    "\n",
    "prediction = endpoint.predict(instances_list)\n",
    "print(prediction)"
   ]
  },
  {
   "cell_type": "code",
   "execution_count": null,
   "id": "4ec5fb66-f6ee-4956-a765-a8dc0e8274b7",
   "metadata": {},
   "outputs": [],
   "source": [
    "explanations = m.explain(instances_list)"
   ]
  },
  {
   "cell_type": "code",
   "execution_count": null,
   "id": "5504fc7b-b9f5-4eac-9090-9a1247cf99a0",
   "metadata": {},
   "outputs": [],
   "source": []
  },
  {
   "cell_type": "code",
   "execution_count": null,
   "id": "022d0a76-aa01-4be0-91db-82593412fdf7",
   "metadata": {},
   "outputs": [],
   "source": []
  }
 ],
 "metadata": {
  "environment": {
   "kernel": "python3",
   "name": "r-cpu.4-1.m87",
   "type": "gcloud",
   "uri": "gcr.io/deeplearning-platform-release/r-cpu.4-1:m87"
  },
  "kernelspec": {
   "display_name": "Python 3",
   "language": "python",
   "name": "python3"
  },
  "language_info": {
   "codemirror_mode": {
    "name": "ipython",
    "version": 3
   },
   "file_extension": ".py",
   "mimetype": "text/x-python",
   "name": "python",
   "nbconvert_exporter": "python",
   "pygments_lexer": "ipython3",
   "version": "3.7.12"
  }
 },
 "nbformat": 4,
 "nbformat_minor": 5
}
